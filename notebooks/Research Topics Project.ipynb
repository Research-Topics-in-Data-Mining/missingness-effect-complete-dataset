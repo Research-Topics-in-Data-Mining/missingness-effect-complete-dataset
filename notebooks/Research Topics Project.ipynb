{
 "cells": [
  {
   "cell_type": "markdown",
   "id": "6b540cef",
   "metadata": {},
   "source": [
    "# Research topics in Data Mining"
   ]
  },
  {
   "cell_type": "markdown",
   "id": "7e90ccdc",
   "metadata": {},
   "source": [
    "little introduction here"
   ]
  },
  {
   "cell_type": "markdown",
   "id": "c605f145",
   "metadata": {},
   "source": [
    "## Read and prepocess the data"
   ]
  },
  {
   "cell_type": "code",
   "execution_count": null,
   "id": "00fe6f22",
   "metadata": {},
   "outputs": [],
   "source": []
  },
  {
   "cell_type": "markdown",
   "id": "27225ef2",
   "metadata": {},
   "source": [
    "## Implement missing data functions"
   ]
  },
  {
   "cell_type": "code",
   "execution_count": null,
   "id": "87e20309",
   "metadata": {},
   "outputs": [],
   "source": []
  },
  {
   "cell_type": "markdown",
   "id": "7203ee10",
   "metadata": {},
   "source": [
    "## ML model pipeline for classification"
   ]
  },
  {
   "cell_type": "code",
   "execution_count": null,
   "id": "05fd7a9e",
   "metadata": {},
   "outputs": [],
   "source": []
  },
  {
   "cell_type": "markdown",
   "id": "ab4354fd",
   "metadata": {},
   "source": [
    "## Evaluate somehow our results"
   ]
  },
  {
   "cell_type": "code",
   "execution_count": null,
   "id": "1755316e",
   "metadata": {},
   "outputs": [],
   "source": []
  },
  {
   "cell_type": "markdown",
   "id": "9e47c0ad",
   "metadata": {},
   "source": [
    "## Visualizations"
   ]
  },
  {
   "cell_type": "code",
   "execution_count": null,
   "id": "48b3a586",
   "metadata": {},
   "outputs": [],
   "source": []
  },
  {
   "cell_type": "markdown",
   "id": "148fa65e",
   "metadata": {},
   "source": [
    "## Conclusions"
   ]
  },
  {
   "cell_type": "code",
   "execution_count": null,
   "id": "b2da3b6e",
   "metadata": {},
   "outputs": [],
   "source": []
  }
 ],
 "metadata": {
  "kernelspec": {
   "display_name": "Python 3 (ipykernel)",
   "language": "python",
   "name": "python3"
  },
  "language_info": {
   "codemirror_mode": {
    "name": "ipython",
    "version": 3
   },
   "file_extension": ".py",
   "mimetype": "text/x-python",
   "name": "python",
   "nbconvert_exporter": "python",
   "pygments_lexer": "ipython3",
   "version": "3.8.10"
  }
 },
 "nbformat": 4,
 "nbformat_minor": 5
}
